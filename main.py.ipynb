{
 "cells": [
  {
   "cell_type": "code",
   "execution_count": 17,
   "metadata": {},
   "outputs": [
    {
     "name": "stdout",
     "output_type": "stream",
     "text": [
      "<class 'spacy.tokens.doc.Doc'>\n",
      "id\n",
      ",\n",
      "Subject\n",
      ",\n",
      "Complaint\n",
      ",\n",
      "Departments\n",
      "\n",
      "\n"
     ]
    }
   ],
   "source": [
    "import nltk\n",
    "import spacy\n",
    "import pandas as pd\n",
    "\n",
    "nlp = spacy.load('en') #loading English\n",
    "\n",
    "\n",
    "#opening csv\n",
    "myfile = open('/home/user/Complaint/MakeComplaint/data.csv').read()\n",
    "data=nlp(myfile)\n",
    "\n",
    "#df=pd.DataFrame(data=data)\n",
    "#df=nlp(df)\n",
    "#print(df)\n",
    "print(type(data))\n",
    "for token in data[:8]:\n",
    "    print(token.text)\n",
    "#fetching the headers\n",
    "\n",
    "#for colname in frames:\n",
    "    #print(colname.columns)\n",
    "    \n",
    "    \n",
    "    \n",
    "#keys = ['Water Authority','KSEB','KSRTC','PWD','Environment and climate change','MVD']\n",
    "#df=pd.concat(frames,keys=keys)\n",
    "#df\n",
    "\n",
    "\n",
    "\n",
    "#print(doc_file)\n",
    "\n",
    "#tokenizer=nltk.tokenize.TreebankWordTokenizer()\n",
    "#tokens=tokenizer.tokenize(text)\n",
    "#print(\"Tree\", tokens)"
   ]
  },
  {
   "cell_type": "code",
   "execution_count": null,
   "metadata": {},
   "outputs": [],
   "source": [
    "English"
   ]
  }
 ],
 "metadata": {
  "kernelspec": {
   "display_name": "Python 3",
   "language": "python",
   "name": "python3"
  },
  "language_info": {
   "codemirror_mode": {
    "name": "ipython",
    "version": 3
   },
   "file_extension": ".py",
   "mimetype": "text/x-python",
   "name": "python",
   "nbconvert_exporter": "python",
   "pygments_lexer": "ipython3",
   "version": "3.5.2"
  }
 },
 "nbformat": 4,
 "nbformat_minor": 2
}
