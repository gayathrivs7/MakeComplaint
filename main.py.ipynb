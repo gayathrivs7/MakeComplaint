{
 "cells": [
  {
   "cell_type": "code",
   "execution_count": null,
   "metadata": {},
   "outputs": [],
   "source": [
    "import nltk\n",
    "import spacy\n",
    "import pandas as pd\n",
    "\n",
    "nlp = spacy.load('en') #loading English\n",
    "\n",
    "\n",
    "#opening csv\n",
    "myfile = open('/home/user/Complaint/MakeComplaint/data.csv').read()\n",
    "data=nlp(myfile)\n",
    "\n",
    "#df=pd.DataFrame(data=data)\n",
    "#df=nlp(df)\n",
    "#print(df)\n",
    "print(type(data))\n",
    "for token in data[:8]:\n",
    "    print(token.text)\n",
    "#fetching the headers\n",
    "\n",
    "#for colname in frames:\n",
    "    #print(colname.columns)\n",
    "    \n",
    "    \n",
    "    \n",
    "#keys = ['Water Authority','KSEB','KSRTC','PWD','Environment and climate change','MVD']\n",
    "#df=pd.concat(frames,keys=keys)\n",
    "#df\n",
    "\n",
    "\n",
    "\n",
    "#print(doc_file)\n",
    "\n",
    "#tokenizer=nltk.tokenize.TreebankWordTokenizer()\n",
    "#tokens=tokenizer.tokenize(text)\n",
    "#print(\"Tree\", tokens)"
   ]
  },
  {
   "cell_type": "code",
   "execution_count": 17,
   "metadata": {},
   "outputs": [
    {
     "data": {
      "text/plain": [
       "array(['Water Authority', 'PWD', 'KSEB', 'KSRTC',\n",
       "       'Environment and climate change'], dtype=object)"
      ]
     },
     "execution_count": 17,
     "metadata": {},
     "output_type": "execute_result"
    }
   ],
   "source": [
    "import pandas as pd\n",
    "import matplotlib.pyplot as plt\n",
    "\n",
    "dataset= pd.read_csv('/home/user/Complaint/MakeComplaint/data.csv')\n",
    "dataset['Departments'].unique() "
   ]
  },
  {
   "cell_type": "code",
   "execution_count": 24,
   "metadata": {},
   "outputs": [
    {
     "data": {
      "text/plain": [
       "Index(['id', 'Subject', 'Complaint', 'Departments'], dtype='object')"
      ]
     },
     "execution_count": 24,
     "metadata": {},
     "output_type": "execute_result"
    }
   ],
   "source": [
    "import pandas as pd\n",
    "import matplotlib.pyplot as plt\n",
    "\n",
    "dataset= pd.read_csv('/home/user/Complaint/MakeComplaint/data.csv')\n",
    "dataset.columns\n",
    "#dataset.head()\n",
    "\n",
    "\n",
    "\n",
    "\n"
   ]
  },
  {
   "cell_type": "code",
   "execution_count": null,
   "metadata": {},
   "outputs": [],
   "source": [
    "import pandas as pd\n",
    "import matplotlib.pyplot as plt\n",
    "\n",
    "dataset= pd.read_csv('/home/user/Complaint/MakeComplaint/data.csv')\n",
    "\n",
    "\n",
    "\n",
    "\n",
    "dataset.Departments.value_counts().plot(kind='pie', \n",
    "                                  figsize=(8,6), \n",
    "                                  fontsize=13, \n",
    "                                  autopct='%1.1f%%', \n",
    "                                  wedgeprops={'linewidth': 5}\n",
    "                                  )\n",
    "plt.axis('off')\n",
    "plt.axis('equal')"
   ]
  },
  {
   "cell_type": "code",
   "execution_count": 11,
   "metadata": {},
   "outputs": [
    {
     "data": {
      "text/html": [
       "<div>\n",
       "<style scoped>\n",
       "    .dataframe tbody tr th:only-of-type {\n",
       "        vertical-align: middle;\n",
       "    }\n",
       "\n",
       "    .dataframe tbody tr th {\n",
       "        vertical-align: top;\n",
       "    }\n",
       "\n",
       "    .dataframe thead th {\n",
       "        text-align: right;\n",
       "    }\n",
       "</style>\n",
       "<table border=\"1\" class=\"dataframe\">\n",
       "  <thead>\n",
       "    <tr style=\"text-align: right;\">\n",
       "      <th></th>\n",
       "      <th>id</th>\n",
       "      <th>Subject</th>\n",
       "      <th>Complaint</th>\n",
       "      <th>Departments</th>\n",
       "    </tr>\n",
       "  </thead>\n",
       "  <tbody>\n",
       "    <tr>\n",
       "      <th>0</th>\n",
       "      <td>1</td>\n",
       "      <td>no water supply connection</td>\n",
       "      <td>no water pipeline connection in amma gardens r...</td>\n",
       "      <td>Water Authority</td>\n",
       "    </tr>\n",
       "    <tr>\n",
       "      <th>1</th>\n",
       "      <td>2</td>\n",
       "      <td>road re tarring</td>\n",
       "      <td>i am a resident of sreekaryam aambadnnagar lan...</td>\n",
       "      <td>PWD</td>\n",
       "    </tr>\n",
       "    <tr>\n",
       "      <th>2</th>\n",
       "      <td>3</td>\n",
       "      <td>power cuts without a prior notice</td>\n",
       "      <td>as everyone knows that electricity is the majo...</td>\n",
       "      <td>KSEB</td>\n",
       "    </tr>\n",
       "    <tr>\n",
       "      <th>3</th>\n",
       "      <td>4</td>\n",
       "      <td>scarcity of water in day time</td>\n",
       "      <td>there is scarcity of water in my area vanchiyo...</td>\n",
       "      <td>Water Authority</td>\n",
       "    </tr>\n",
       "    <tr>\n",
       "      <th>4</th>\n",
       "      <td>5</td>\n",
       "      <td>water scarcity</td>\n",
       "      <td>there is a huge scarcity of water in remote ar...</td>\n",
       "      <td>Water Authority</td>\n",
       "    </tr>\n",
       "  </tbody>\n",
       "</table>\n",
       "</div>"
      ],
      "text/plain": [
       "   id                            Subject  \\\n",
       "0   1         no water supply connection   \n",
       "1   2                    road re tarring   \n",
       "2   3  power cuts without a prior notice   \n",
       "3   4     scarcity of water in day time    \n",
       "4   5                     water scarcity   \n",
       "\n",
       "                                           Complaint      Departments  \n",
       "0  no water pipeline connection in amma gardens r...  Water Authority  \n",
       "1  i am a resident of sreekaryam aambadnnagar lan...              PWD  \n",
       "2  as everyone knows that electricity is the majo...             KSEB  \n",
       "3  there is scarcity of water in my area vanchiyo...  Water Authority  \n",
       "4  there is a huge scarcity of water in remote ar...  Water Authority  "
      ]
     },
     "execution_count": 11,
     "metadata": {},
     "output_type": "execute_result"
    }
   ],
   "source": [
    "import pandas as pd\n",
    "import matplotlib.pyplot as plt\n",
    "\n",
    "\n",
    "#Data cleaning\n",
    "\n",
    "# 1. unpunctuate \n",
    "# 2. to lower\n",
    "# 3. Remove numerals\n",
    "# 4. Remove Newline for subject\n",
    "\n",
    "\n",
    "# Data loading\n",
    "dataset= pd.read_csv('/home/user/Complaint/MakeComplaint/data.csv')\n",
    "\n",
    "\n",
    "# unpunctuate and lower case\n",
    "dataset['Subject'] = dataset['Subject'].str.replace('[^\\w\\s]','').str.lower()\n",
    "\n",
    "\n",
    "# unpunctuate and lower case\n",
    "dataset['Complaint'] = dataset['Complaint'].str.replace('[^\\w\\s]','').str.lower() \n",
    "\n",
    "\n",
    "#rRemoving new lines in the subject field\n",
    "dataset['Subject'] = dataset['Subject'].str.rstrip('\\n')\n",
    "\n",
    "#removing Numeric \n",
    "dataset['Complaint'] = dataset['Complaint'].str.replace('[^a-zA-Z ]','').str.lower()\n",
    "\n",
    "\n",
    "\n",
    "# creating dataframe for each departments\n",
    "water = dataset.loc[dataset['Departments'] == 'Water Authority']\n",
    "pwd = dataset.loc[dataset['Departments'] == 'PWD']\n",
    "ksrct = dataset.loc[dataset['Departments'] == 'KSRTC']\n",
    "ksrct = dataset.loc[dataset['Departments'] == 'KSEB']\n",
    "env = dataset.loc[dataset['Departments'] == 'Environment and climate change']\n",
    "\n",
    "dataset.head()\n",
    "\n",
    "\n"
   ]
  }
 ],
 "metadata": {
  "kernelspec": {
   "display_name": "Python 3",
   "language": "python",
   "name": "python3"
  },
  "language_info": {
   "codemirror_mode": {
    "name": "ipython",
    "version": 3
   },
   "file_extension": ".py",
   "mimetype": "text/x-python",
   "name": "python",
   "nbconvert_exporter": "python",
   "pygments_lexer": "ipython3",
   "version": "3.5.2"
  }
 },
 "nbformat": 4,
 "nbformat_minor": 2
}
