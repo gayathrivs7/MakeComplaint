{
 "cells": [
  {
   "cell_type": "code",
   "execution_count": 5,
   "metadata": {},
   "outputs": [
    {
     "name": "stdout",
     "output_type": "stream",
     "text": [
      "[1, [], 'increasing deaths from air pollution \\nair pollution.  the number of deaths from cardiovascular disease that can be attributed to air pollution is much higher than expectedair pollution caused twice as many deaths from cvd as from respiratory diseases', [], 'waste disposal to water bodies.  people make river water polluted by dumping household wastage industrial wastage into it', [], 'illegal sand mines.  due to the sand mining there is more of effect on the ecosystem which will have a severe impact on plants animals and rivers', [], 'waste disposal on roads.  in our areas during night some strangers are dumping hotel waste domestic waste which is very foul smelling on the sides of the road those wastes remain in th road uncleaned there shouldbe a camerasurvelliance facility to catchthe people throwing wastes', [], 'fishes dying massively.  fishes in the river pampa are dying massively due to the deposits of oil by the factories nearby', [], 'construction of paddy fields.  construction is going on the trivandrum in the paddy fields please take necessary steps to save farming', [], 'water pollution is a major issue.  many industries dump wastes into rivers lakes ponds and streams in an attempt to hide wastes from epa inspectors these water sources feed major crops and food becomes contaminated with a variety of chemicals and bacteria causing rampant health problems', [], 'burning of plastics issue.  burning of plastics in public places cause a major health concern as the rate of lung cancer patients are increasing day by day it is high time to check such activities', [], 'waste collecting mechanism.  dumping of wastes in the public places causes major health issues and has been inviting the eradicated disease once more there should be a mechanism to collect the wastes from all the households and it should be disposed properly', [], 'save water bodies.  activities like waste disposal from residential commercial and industrial areas oil spills and runoff from agriculture all contaminate bodies of water', [], 'overfishing in rivers.  overfishing which causes a reduction in diversity of marine life fishermen are not considering their breeding time', [], 'light pollution.  artificial light at night is one of the most obvious physical changes that humans have made to the biosphere artificial light also affects dispersal orientation migration and hormone levels resulting in disrupted circadian rhythms', [], 'we make a lot of e-waste.  the electronic waste problem is huge the electronics end up in landfills toxics like lead mercury and cadmium leach into the soil and water', [], 'ocean acidification.  ocean acidification is caused when co dissolves into the ocean bonding with sea water creating carbonic acid the acid reduces the ph levels in the water', [], 'city dwellers are prone to noise pollution.  noise produced by vehicles political parties religious centers causes great harm to human ears', [], 'cutting down of trees.  now a days many people are cutting down the trees for their own purposes for example  many oragansations and some builders cut down the trees and build their projects this will cause a real harm to humans they are also utilizing those fertile paddy fields for construction these will affect the environment and the oxygen content in the air become low when the oxygen content level decreases in the air survival of living beings will move in a harder way it is also a major factor in ozone depletion when ozone holes are formed the harmful radiations will enter into the earth through these holes and causes real harm to the living beings if this continues in this way it is a threatening part for our lives so please take this as a serious issue and make necessary useful remedies ', [], 'pollution by ksrtc bus.  polution by ksrtc bus is very heavy today so government has to fix it as soon as possible', [], 'horrible effects of quarrying  quarries are bad for the environment in several ways they abruptly interrupt the continuity of open space cause soil erosionair and dust pollution deterioration in water qualitywhen they are in residential areathey create noise hazards so i request the higher authority to investigate and punish the officials who have a hand in quarrying and illegal mining at the same time government should create awareness about the potentially negative impact of quarrying', [], 'mining.  save alappad stop mining', [], 'regarding waste dumping in cities.  i would like to inform you that city residents are facing difficulties to dump domestic wastes sohumbly request you to take necessary actions on this', [], 'environment and climate change\\n is one of the big challenge we \\nare facing right now.  preserving biodiversity saving forest can help to overcome these issuesalso by recycling avoiding usage of plastic efficient use of fuel', [], 'intolerable temperature rise in summer\\n season.  intolerable temperature change in summer season cause dried up of rivers skin disease', [], 'environment.  intense heat during summer', [], 'take immediate and necessary \\nsteps to regulate global climate \\nchange.  one among the factors which shaped kerala as gods own country  was its euphoric climate which never touched the extremes thanks to the moderating influence of sea and the mighty western ghats but the scenario has changed a lot now kerala is witnessing an unprecedental surge in temperature kumbhachoodu as termed by old generation is in its alltime highimpacting the livelihood of many', [], 'excessive use of chlorine.  due to excessive use of chlorine and other disinfectants the water is causing long term health problems like hair fall rashes etc the amount of disinfectants to be used in the water to be supplied need to reconsidered', [], 'increase in heat and temperature.  we should have more projects on planting trees and dont cut down big grownup trees', [], 'pollution everywhere.  need proper regulations to control the pollution', [], 'rise in temperature.  increased deforestation uncontrolled constructiondevelopment activities and vehicle emissions heavily contribute to increase in temperature government should build new policies and also consider switching to renewable energy sources', [], 'the bad air and water quality in kochi.  the pollution levels in the kochi city is rising rapidly the government should initiate steps to curb the same', [], 'waste disposal   waste disposal in public premises make life hard for people living around there']\n"
     ]
    }
   ],
   "source": [
    "import matplotlib.pyplot as plt\n",
    "from nltk.corpus import stopwords \n",
    "import nltk\n",
    "from nltk.tokenize import word_tokenize \n",
    "from collections import Counter\n",
    "import spacy\n",
    "import pandas as pd\n",
    "\n",
    "nlp = spacy.load('en')\n",
    "\n",
    "#Data cleaning\n",
    "\n",
    "# 1. unpunctuate /home/gayathri/Complaint/MakeComplaint/\n",
    "# 2. to lower\n",
    "# 3. Remove numerals\n",
    "# 4. Remove Newline for subject\n",
    "\n",
    "\n",
    "# Data loading\n",
    "dataset= pd.read_csv('/home/gayathri/project/MakeComplaint/data.csv')\n",
    "\n",
    "\n",
    "# unpunctuate and lower case\n",
    "dataset['Subject'] = dataset['Subject'].str.lower()\n",
    "\n",
    "\n",
    "# unpunctuate and lower case\n",
    "dataset['Complaint'] = dataset['Complaint'].str.lower() \n",
    "\n",
    "\n",
    "#rRemoving new lines in the subject field\n",
    "dataset['Subject'] = dataset['Subject'].str.rstrip('\\n')\n",
    "\n",
    "#rRemoving new lines in the subject field\n",
    "#dataset['Subject'] = dataset['Complaint'].str.rstrip('\\n')\n",
    "\n",
    "#removing Numeric \n",
    "dataset['Complaint'] = dataset['Complaint'].str.replace('[^a-zA-Z ]','').str.lower()\n",
    "\n",
    "\n",
    "\n",
    "# creating dataframe for each departments\n",
    "water = dataset.loc[dataset['Departments'] == 'Water Authority']\n",
    "pwd = dataset.loc[dataset['Departments'] == 'PWD']\n",
    "ksrtc = dataset.loc[dataset['Departments'] == 'KSRTC']\n",
    "kseb = dataset.loc[dataset['Departments'] == 'KSEB']\n",
    "env = dataset.loc[dataset['Departments'] == 'Environment and climate change']\n",
    "\n",
    "#print(env.shape)    #(30, 4)\n",
    "#print(water.shape)  #(39, 4)\n",
    "#print(pwd.shape)    #(42, 4)\n",
    "#print(ksrtc.shape)  #(17, 4)\n",
    "#print(kseb.shape)   #(22, 4)\n",
    "#dataset.head()\n",
    "#print(pwd)\n",
    "\n",
    "#Filtering out Subjects and complaints from the dataframe\n",
    "df_water = water[['Subject','Complaint']]\n",
    "df_pwd   = pwd[['Subject','Complaint']]\n",
    "df_ksrtc = ksrtc[['Subject','Complaint']]\n",
    "df_kseb  = kseb[['Subject','Complaint']]\n",
    "df_env   = env[['Subject','Complaint']]\n",
    "\n",
    "dfwater  = df_water[['Subject','Complaint']]\n",
    "dfpwd    = df_pwd[['Subject','Complaint']]\n",
    "dfksrtc  = df_ksrtc[['Subject','Complaint']]\n",
    "dfkseb   = df_kseb[['Subject','Complaint']]\n",
    "dfenv    = df_env[['Subject','Complaint']]\n",
    "\n",
    "\n",
    "#Dataframe with complaint and subject as one column = Water\n",
    "dfwater['Subject_and_Complaint'] = df_water['Subject'] + \" \"+ df_water['Complaint']\n",
    "dfwater=dfwater[['Subject_and_Complaint']]\n",
    "\n",
    "\n",
    "\n",
    "\n",
    "\n",
    "#Dataframe with complaint and subject as one column = PWD\n",
    "dfpwd['Subject_and_Complaint'] = df_pwd['Subject'] + \"  \"+ df_pwd['Complaint']\n",
    "dfpwd=dfpwd[['Subject_and_Complaint']]\n",
    "#print(dfpwd)\n",
    "\n",
    "#Dataframe with complaint and subject as one column = ksrtc\n",
    "dfksrtc['Subject_and_Complaint'] = df_ksrtc['Subject'] + \"  \"+ df_ksrtc['Complaint']\n",
    "dfksrtc=dfksrtc[['Subject_and_Complaint']]\n",
    "#print(dfksrtc)\n",
    "\n",
    "#Dataframe with complaint and subject as one column = kseb\n",
    "dfkseb['Subject_and_Complaint'] = df_kseb['Subject'] + \"  \"+ df_kseb['Complaint']\n",
    "dfkseb=dfkseb[['Subject_and_Complaint']]\n",
    "#print(dfkseb)\n",
    "\n",
    "\n",
    "#Dataframe with complaint and subject as one column = env\n",
    "dfenv ['Subject_and_Complaint'] = df_env['Subject'] + \"  \"+ df_env['Complaint']\n",
    "dfenv =dfenv [['Subject_and_Complaint']]\n",
    "#print(dfenv )\n",
    "\n",
    "#dfenv['Subject_and_Complaint'] =dfenv['Subject_and_Complaint'] .apply(nlp) \n",
    "dfenv['Subject_and_Complaint'] = dfenv['Subject_and_Complaint'].apply(lambda x: nlp(x))\n",
    "count= 0\n",
    "sent = [1]\n",
    "for i, row in dfenv.iterrows():\n",
    "    sent.append([])\n",
    "    for j in row:\n",
    "        sent.append(j.text)\n",
    "print(sent)\n",
    "        \n",
    "\n",
    "    \n",
    "  "
   ]
  },
  {
   "cell_type": "code",
   "execution_count": 3,
   "metadata": {},
   "outputs": [
    {
     "name": "stdout",
     "output_type": "stream",
     "text": [
      "this\n",
      "is\n",
      "a\n",
      "book\n"
     ]
    }
   ],
   "source": [
    "\n",
    "import spacy\n",
    "nlp = spacy.load('en')\n",
    "doc = nlp(\"this is a book\")\n",
    "for i in doc:\n",
    "    print(i.text)"
   ]
  },
  {
   "cell_type": "code",
   "execution_count": 12,
   "metadata": {},
   "outputs": [
    {
     "name": "stdout",
     "output_type": "stream",
     "text": [
      "These are apples.\n",
      "These are oranges.\n"
     ]
    }
   ],
   "source": [
    "import spacy\n",
    "nlp = spacy.load('en')\n",
    "doc = nlp(\"These are apples.These are oranges.\")\n",
    "for sent in doc.sents:\n",
    "    print(sent)\n"
   ]
  },
  {
   "cell_type": "code",
   "execution_count": 3,
   "metadata": {},
   "outputs": [
    {
     "name": "stdout",
     "output_type": "stream",
     "text": [
      "The film Pulp Fiction was  released  in   year 1994\n"
     ]
    }
   ],
   "source": [
    "from gensim.summarization import keywords\n",
    "from gensim.summarization import summarize\n",
    "import re\n",
    "text = \"The film, '@Pulp Fiction' was ? released _ in % $ year 1994.\"  \n",
    "result = re.sub(r\"[,@\\'?\\.$%_]\", \"\", text, flags=re.I)  \n",
    "print(result)\n"
   ]
  },
  {
   "cell_type": "code",
   "execution_count": 1,
   "metadata": {},
   "outputs": [
    {
     "name": "stdout",
     "output_type": "stream",
     "text": [
      "['going']\n"
     ]
    }
   ],
   "source": [
    "from spacy.lemmatizer import Lemmatizer\n",
    "from spacy.lang.en import LEMMA_INDEX, LEMMA_EXC, LEMMA_RULES\n",
    "\n",
    "lemmatizer = Lemmatizer(LEMMA_INDEX, LEMMA_EXC, LEMMA_RULES)\n",
    "lemmas = lemmatizer(u'going', u'NOUN')\n",
    "print(lemmas)"
   ]
  },
  {
   "cell_type": "code",
   "execution_count": 14,
   "metadata": {},
   "outputs": [
    {
     "name": "stdout",
     "output_type": "stream",
     "text": [
      "rocks : supply\n",
      "corpora : corpus\n",
      "better : caring\n"
     ]
    }
   ],
   "source": [
    "# import these modules \n",
    "from nltk.stem import WordNetLemmatizer \n",
    "  \n",
    "lemmatizer = WordNetLemmatizer() \n",
    "  \n",
    "print(\"rocks :\", lemmatizer.lemmatize(\"supplies\")) \n",
    "print(\"corpora :\", lemmatizer.lemmatize(\"corpora\")) \n",
    "  \n",
    "# a denotes adjective in \"pos\" \n",
    "print(\"better :\", lemmatizer.lemmatize(\"caring\", pos =\"a\")) \n"
   ]
  },
  {
   "cell_type": "code",
   "execution_count": 15,
   "metadata": {},
   "outputs": [
    {
     "name": "stdout",
     "output_type": "stream",
     "text": [
      "game\n",
      "game\n",
      "game\n",
      "game\n"
     ]
    }
   ],
   "source": [
    "from nltk.stem import PorterStemmer\n",
    "from nltk.tokenize import sent_tokenize, word_tokenize\n",
    " \n",
    "words = [\"game\",\"gaming\",\"gamed\",\"games\"]\n",
    "ps = PorterStemmer()\n",
    " \n",
    "for word in words:\n",
    "    print(ps.stem(word))"
   ]
  },
  {
   "cell_type": "code",
   "execution_count": 1,
   "metadata": {},
   "outputs": [
    {
     "name": "stdout",
     "output_type": "stream",
     "text": [
      "['Road', 'maintenance', 'not', 'proper', 'in', 'the', 'way', 'increase', 'traffic', 'issues.Make', 'Sure', 'the', 'road', 'maintenance', 'is', 'in', 'proper', 'and', 'the', 'absence', 'of', 'maintenance', 'works', 'increase', 'the', 'road', 'accidents', '.']\n",
      "['Road', 'maintenance', 'proper', 'way', 'increase', 'traffic', 'issues.Make', 'Sure', 'road', 'maintenance', 'proper', 'absence', 'maintenance', 'works', 'increase', 'road', 'accidents', '.']\n"
     ]
    }
   ],
   "source": [
    "\n",
    "\n",
    "import nltk\n",
    "from nltk.corpus import stopwords \n",
    "import nltk\n",
    "from nltk.tokenize import word_tokenize \n",
    "\n",
    "\n",
    "\n",
    "\n",
    "text = \"Road maintenance not proper in the way increase traffic issues.Make Sure the road maintenance is in proper and the absence of  maintenance works increase the road accidents.\"\n",
    "\n",
    "water_token = word_tokenize(text)\n",
    "print(water_token)\n",
    "water_list =[]\n",
    "#Tokenising water data\n",
    "stop_words = set(stopwords.words('english'))\n",
    "for i in water_token:\n",
    "\n",
    "    #result = [i for i in water_token if not i in stop_words]\n",
    "    if i not in stop_words:\n",
    "        \n",
    "        water_list.append(i)\n",
    "print(water_list)\n",
    "    #water_token.append(tokenizer.tokenize(row['Subject_and_Complaint']))\n",
    "\n",
    "   \n",
    "   \n",
    "\n"
   ]
  },
  {
   "cell_type": "code",
   "execution_count": 2,
   "metadata": {},
   "outputs": [
    {
     "name": "stdout",
     "output_type": "stream",
     "text": [
      "12\n"
     ]
    }
   ],
   "source": [
    "\n",
    "class a:\n",
    "    def one(self):\n",
    "        a=10\n",
    "        return a\n",
    "    def two(self):\n",
    "        s=2\n",
    "        return s\n",
    "    def sum(self,a,b):\n",
    "        \n",
    "        b=a+b\n",
    "        print(b)\n",
    "        \n",
    "x=a()\n",
    "a=x.one()\n",
    "b=x.two()\n",
    "x.sum(a,b)\n"
   ]
  },
  {
   "cell_type": "code",
   "execution_count": 3,
   "metadata": {},
   "outputs": [
    {
     "name": "stdout",
     "output_type": "stream",
     "text": [
      "['little', 'blue']\n"
     ]
    }
   ],
   "source": [
    "list1 = ['little','blue','widget']\n",
    "list2 = ['there','is','a','little','blue','cup','on','the','table']\n",
    "\n",
    "list3 = set(list1)&set(list2) # we don't need to list3 to actually be a list\n",
    "\n",
    "list4 = sorted(list3, key = lambda k : list1.index(k))\n",
    "print(list4)"
   ]
  },
  {
   "cell_type": "code",
   "execution_count": 10,
   "metadata": {},
   "outputs": [
    {
     "name": "stdout",
     "output_type": "stream",
     "text": [
      "a\n"
     ]
    }
   ],
   "source": [
    "L2 = ['a','b','c','d']\n",
    "L1 = [1,2,3,4]\n",
    "d = dict(zip(L1,L2))\n",
    "print(d[1])"
   ]
  }
 ],
 "metadata": {
  "kernelspec": {
   "display_name": "Python 3",
   "language": "python",
   "name": "python3"
  },
  "language_info": {
   "codemirror_mode": {
    "name": "ipython",
    "version": 3
   },
   "file_extension": ".py",
   "mimetype": "text/x-python",
   "name": "python",
   "nbconvert_exporter": "python",
   "pygments_lexer": "ipython3",
   "version": "3.5.2"
  }
 },
 "nbformat": 4,
 "nbformat_minor": 2
}
